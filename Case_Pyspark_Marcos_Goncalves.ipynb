{
 "cells": [
  {
   "cell_type": "markdown",
   "id": "f27ea9e0-5319-4c56-bee0-113f46ae2279",
   "metadata": {},
   "source": [
    "## Case Pyspark - Jump Start - Turma 04 - \n",
    "### Marcos Gonçalves"
   ]
  },
  {
   "cell_type": "markdown",
   "id": "61967e04-51b3-4c4f-b086-b933d571ff84",
   "metadata": {},
   "source": [
    "<center>\n",
    "    \n",
    "![PysparkxPandas](PysparkxPandas.png)\n",
    "\n",
    "</center>"
   ]
  },
  {
   "cell_type": "markdown",
   "id": "c5ed07d5-064f-497a-9902-03a3ba802824",
   "metadata": {},
   "source": [
    "## Utilizado uma questão do Case Pandas e feito uma comparação da performance com o Pyspark "
   ]
  },
  {
   "cell_type": "markdown",
   "id": "72c94555-ee3e-4186-b2e6-0fc55db74f5e",
   "metadata": {},
   "source": [
    "## Importando Bibliotecas"
   ]
  },
  {
   "cell_type": "code",
   "execution_count": 1,
   "id": "53e4f6ed-25c5-44ea-a75d-ee3570aa9f66",
   "metadata": {},
   "outputs": [
    {
     "data": {
      "text/html": [
       "\n",
       "            <div>\n",
       "                <p><b>SparkSession - in-memory</b></p>\n",
       "                \n",
       "        <div>\n",
       "            <p><b>SparkContext</b></p>\n",
       "\n",
       "            <p><a href=\"http://192.168.1.2:4040\">Spark UI</a></p>\n",
       "\n",
       "            <dl>\n",
       "              <dt>Version</dt>\n",
       "                <dd><code>v3.5.1</code></dd>\n",
       "              <dt>Master</dt>\n",
       "                <dd><code>local[*]</code></dd>\n",
       "              <dt>AppName</dt>\n",
       "                <dd><code>Spark</code></dd>\n",
       "            </dl>\n",
       "        </div>\n",
       "        \n",
       "            </div>\n",
       "        "
      ],
      "text/plain": [
       "<pyspark.sql.session.SparkSession at 0x1eab623e410>"
      ]
     },
     "execution_count": 1,
     "metadata": {},
     "output_type": "execute_result"
    }
   ],
   "source": [
    "import pandas as pd\n",
    "import time\n",
    "from pyspark.sql.functions import col, lit, regexp_replace, to_date, split, explode, floor, year, row_number\n",
    "from pyspark.sql.window import Window\n",
    "\n",
    "from pyspark.sql import SparkSession\n",
    "spark = SparkSession.builder.appName('Spark').getOrCreate()\n",
    "spark"
   ]
  },
  {
   "cell_type": "markdown",
   "id": "a94b7051-34a9-425a-8ebb-e73657b562c8",
   "metadata": {},
   "source": [
    "## Medir Performance"
   ]
  },
  {
   "cell_type": "code",
   "execution_count": 3,
   "id": "0afe6bfa-a4dc-4be7-b445-4a039eeefc48",
   "metadata": {},
   "outputs": [],
   "source": [
    "# Pandas\n",
    "pandas_start = time.time()\n",
    "pandas_end = time.time()\n",
    "pandas_time = pandas_end - pandas_start\n",
    "\n",
    "#Pyspark\n",
    "pyspark_start = time.time()\n",
    "pyspark_end = time.time()\n",
    "pyspark_time = pyspark_end - pyspark_start"
   ]
  },
  {
   "cell_type": "markdown",
   "id": "558611c4-496d-4f0d-aee6-df025cf91ead",
   "metadata": {},
   "source": [
    "## Carregando os Arquivos"
   ]
  },
  {
   "cell_type": "markdown",
   "id": "419d77e3-8f49-47b2-9dd6-3f43a3c0b3b0",
   "metadata": {},
   "source": [
    "### Utilizando Pyspark"
   ]
  },
  {
   "cell_type": "code",
   "execution_count": 5,
   "id": "3af900fb-5f70-4adf-aa4d-535f7e5de5b9",
   "metadata": {},
   "outputs": [],
   "source": [
    "parametros = {\n",
    "    'delimiter' : '\\t',\n",
    "    'header': True,\n",
    "    'inferSchema': True\n",
    "}"
   ]
  },
  {
   "cell_type": "code",
   "execution_count": 14,
   "id": "8d1bead3-84bb-451a-827a-3093cace4685",
   "metadata": {},
   "outputs": [
    {
     "name": "stdout",
     "output_type": "stream",
     "text": [
      "Tempo de execução com Pyspark: 32.56 segundos\n"
     ]
    }
   ],
   "source": [
    "#title_basics\n",
    "pyspark_start = time.time()\n",
    "\n",
    "path_titlebasics = r'C:\\Users\\marcosgoncalves\\Desktop\\Dados_Programacao\\JumpStart2024\\Python\\Case_Python\\title.basics.tsv'\n",
    "df_pyspark_title_basics = spark.read.options(**parametros).csv(path_titlebasics)\n",
    "\n",
    "pyspark_end = time.time()\n",
    "print(f'Tempo de execução com Pyspark: {pyspark_end - pyspark_start:.2f} segundos')"
   ]
  },
  {
   "cell_type": "code",
   "execution_count": 15,
   "id": "333572b2-f6e6-46b8-ba70-6dd39d632c5c",
   "metadata": {},
   "outputs": [
    {
     "name": "stdout",
     "output_type": "stream",
     "text": [
      "Tempo de execução com Pyspark: 4.03 segundos\n"
     ]
    }
   ],
   "source": [
    "#title_ratings\n",
    "pyspark_start = time.time()\n",
    "\n",
    "path_titleratings = r'C:\\Users\\marcosgoncalves\\Desktop\\Dados_Programacao\\JumpStart2024\\Python\\Case_Python\\title.ratings.tsv'\n",
    "df_pyspark_title_ratings = spark.read.options(**parametros).csv(path_titleratings)\n",
    "\n",
    "pyspark_end = time.time()\n",
    "print(f'Tempo de execução com Pyspark: {pyspark_end - pyspark_start:.2f} segundos')"
   ]
  },
  {
   "cell_type": "code",
   "execution_count": 16,
   "id": "8edb79fc-57be-4740-8d36-a8faaab25384",
   "metadata": {},
   "outputs": [
    {
     "name": "stdout",
     "output_type": "stream",
     "text": [
      "Tempo de execução com Pyspark: 146.56 segundos\n"
     ]
    }
   ],
   "source": [
    "#title_akas\n",
    "pyspark_start = time.time()\n",
    "\n",
    "path_titleakas = r'C:\\Users\\marcosgoncalves\\Desktop\\Dados_Programacao\\JumpStart2024\\Python\\Case_Python\\title.akas.tsv'\n",
    "df_pyspark_title_akas = spark.read.options(**parametros).csv(path_titleakas)\n",
    "\n",
    "pyspark_end = time.time()\n",
    "print(f'Tempo de execução com Pyspark: {pyspark_end - pyspark_start:.2f} segundos')"
   ]
  },
  {
   "cell_type": "markdown",
   "id": "db381840-544c-4bc9-acf9-732bb32ace68",
   "metadata": {},
   "source": [
    "### Utilizando Pandas"
   ]
  },
  {
   "cell_type": "code",
   "execution_count": 17,
   "id": "4842f204-956b-40d0-beb2-a8414baea35d",
   "metadata": {},
   "outputs": [
    {
     "name": "stdout",
     "output_type": "stream",
     "text": [
      "Tempo de execução com Pandas: 346.37 segundos\n"
     ]
    }
   ],
   "source": [
    "#title_basics\n",
    "pandas_start = time.time()\n",
    "\n",
    "chunk_size = 50000\n",
    "chunkstb = []\n",
    "\n",
    "try:\n",
    "    for chunk in pd.read_csv(r'C:\\Users\\marcosgoncalves\\Desktop\\Dados_Programacao\\JumpStart2024\\Python\\Case_Python\\title.basics.tsv', sep= '\\t', chunksize=chunk_size):\n",
    "        chunkstb.append(chunk)\n",
    "    df_pandas_title_basics = pd.concat(chunkstb, axis=0)\n",
    "except pd.errors.ParserError as e:\n",
    "    print(f'Erro ao ler o arquivo')\n",
    "\n",
    "pandas_end = time.time()\n",
    "print(f'Tempo de execução com Pandas: {pandas_end - pandas_start:.2f} segundos')"
   ]
  },
  {
   "cell_type": "code",
   "execution_count": 18,
   "id": "3641730f-5b5c-4b87-8ea6-cd3716d34eca",
   "metadata": {},
   "outputs": [
    {
     "name": "stdout",
     "output_type": "stream",
     "text": [
      "Tempo de execução com Pandas: 12.53 segundos\n"
     ]
    }
   ],
   "source": [
    "#title_ratings\n",
    "pandas_start = time.time()\n",
    "\n",
    "df_pandas_title_ratings = pd.read_csv(r'C:\\Users\\marcosgoncalves\\Desktop\\Dados_Programacao\\JumpStart2024\\Python\\Case_Python\\title.ratings.tsv', sep= '\\t')\n",
    "\n",
    "pandas_end = time.time()\n",
    "print(f'Tempo de execução com Pandas: {pandas_end - pandas_start:.2f} segundos')"
   ]
  },
  {
   "cell_type": "code",
   "execution_count": 2,
   "id": "4372cfee-af21-4313-bcfc-98d5a618cdd3",
   "metadata": {},
   "outputs": [
    {
     "name": "stdout",
     "output_type": "stream",
     "text": [
      "Tempo de execução com Pandas: 1535.36 segundos\n"
     ]
    }
   ],
   "source": [
    "#title_akas\n",
    "pandas_start = time.time()\n",
    "\n",
    "chunk_size = 50000\n",
    "chunksta = []\n",
    "\n",
    "try:\n",
    "    for chunk in pd.read_csv(r'C:\\Users\\marcosgoncalves\\Desktop\\Dados_Programacao\\JumpStart2024\\Python\\Case_Python\\title.akas.tsv', sep= '\\t', chunksize=chunk_size):\n",
    "        chunksta.append(chunk)\n",
    "    df_pandas_title_akas = pd.concat(chunksta, axis=0)\n",
    "except pd.errors.ParserError as e:\n",
    "    print(f'Erro ao ler o arquivo')\n",
    "\n",
    "pandas_end = time.time()\n",
    "print(f'Tempo de execução com Pandas: {pandas_end - pandas_start:.2f} segundos')"
   ]
  },
  {
   "cell_type": "markdown",
   "id": "cc201602-bda2-4309-baa1-f1b497aa1c77",
   "metadata": {},
   "source": [
    "### Aplicando um filtro para trabalhar apenas com filmes identificados por movie, tvMovie, short e tvShort, descartando as demais categorias que não se tratam de filmes\n",
    "\n",
    "#### Reduzindo a base para 1.848.568 linhas e mantendo as 9 colunas"
   ]
  },
  {
   "cell_type": "markdown",
   "id": "987708c2-b8b2-4f92-aa5a-9881329ef76b",
   "metadata": {},
   "source": [
    "#### Pandas"
   ]
  },
  {
   "cell_type": "code",
   "execution_count": 20,
   "id": "c8cf7e2a-094e-4e95-8135-234528f220ab",
   "metadata": {},
   "outputs": [
    {
     "data": {
      "text/plain": [
       "(10918941, 9)"
      ]
     },
     "execution_count": 20,
     "metadata": {},
     "output_type": "execute_result"
    }
   ],
   "source": [
    "df_pandas_title_basics.shape"
   ]
  },
  {
   "cell_type": "code",
   "execution_count": 21,
   "id": "6285fe35-99c0-4b38-9515-4825adcf0b35",
   "metadata": {},
   "outputs": [
    {
     "name": "stdout",
     "output_type": "stream",
     "text": [
      "Tempo de execução com Pandas: 466.64 segundos\n"
     ]
    }
   ],
   "source": [
    "pandas_start = time.time()\n",
    "\n",
    "df_pandas_title_basics = df_pandas_title_basics[(df_pandas_title_basics['titleType'] == 'movie') | (df_pandas_title_basics['titleType'] =='tvMovie') \n",
    "|(df_pandas_title_basics['titleType'] =='short') | (df_pandas_title_basics['titleType'] =='tvShort')]\n",
    "\n",
    "pandas_end = time.time()\n",
    "print(f'Tempo de execução com Pandas: {pandas_end - pandas_start:.2f} segundos')"
   ]
  },
  {
   "cell_type": "code",
   "execution_count": 22,
   "id": "5bcb7ec2-8461-438e-a224-8944b22f31d8",
   "metadata": {},
   "outputs": [
    {
     "data": {
      "text/plain": [
       "(1848568, 9)"
      ]
     },
     "execution_count": 22,
     "metadata": {},
     "output_type": "execute_result"
    }
   ],
   "source": [
    "df_pandas_title_basics.shape"
   ]
  },
  {
   "cell_type": "markdown",
   "id": "d89d0816-94ba-4b63-b80a-bb87439d9edc",
   "metadata": {},
   "source": [
    "#### Pyskpark"
   ]
  },
  {
   "cell_type": "code",
   "execution_count": 23,
   "id": "c9350c42-097d-454d-b743-75f58ab1e4b9",
   "metadata": {},
   "outputs": [
    {
     "data": {
      "text/plain": [
       "10918941"
      ]
     },
     "execution_count": 23,
     "metadata": {},
     "output_type": "execute_result"
    }
   ],
   "source": [
    "df_pyspark_title_basics.count()"
   ]
  },
  {
   "cell_type": "code",
   "execution_count": 24,
   "id": "f400065a-174a-4741-8db8-b4f8bc939a92",
   "metadata": {},
   "outputs": [
    {
     "name": "stdout",
     "output_type": "stream",
     "text": [
      "Tempo de execução com Pyspark: 2.26 segundos\n"
     ]
    }
   ],
   "source": [
    "pyspark_start = time.time()\n",
    "\n",
    "df_pyspark_title_basics = df_pyspark_title_basics.filter(\n",
    "    (col('titleType') == 'movie') |\n",
    "    (col('titleType') == 'tvMovie') |\n",
    "    (col('titleType') == 'short') |\n",
    "    (col('titleType') == 'tvShort')\n",
    ")\n",
    "\n",
    "pyspark_end = time.time()\n",
    "print(f'Tempo de execução com Pyspark: {pyspark_end - pyspark_start:.2f} segundos')"
   ]
  },
  {
   "cell_type": "code",
   "execution_count": 25,
   "id": "7dd57719-8a4f-4a4b-a812-f3853e4fa64b",
   "metadata": {},
   "outputs": [
    {
     "data": {
      "text/plain": [
       "1848568"
      ]
     },
     "execution_count": 25,
     "metadata": {},
     "output_type": "execute_result"
    }
   ],
   "source": [
    "df_pyspark_title_basics.count()"
   ]
  },
  {
   "cell_type": "markdown",
   "id": "aeb0a410-b281-4389-9465-2e646410802d",
   "metadata": {
    "jp-MarkdownHeadingCollapsed": true
   },
   "source": [
    "#### Os valores nulos estavam com a informação \"\\N\" foi corrigida para nulo para ser possível visualizar as quantidades de nulos no DF"
   ]
  },
  {
   "cell_type": "markdown",
   "id": "c4d23bbc-2894-403a-a6c2-7fdebc209051",
   "metadata": {},
   "source": [
    "#### Pandas"
   ]
  },
  {
   "cell_type": "code",
   "execution_count": 26,
   "id": "7895a656-d6fe-4c08-a76d-3cb42324b604",
   "metadata": {},
   "outputs": [
    {
     "name": "stdout",
     "output_type": "stream",
     "text": [
      "Tempo de execução com Pandas: 104.33 segundos\n"
     ]
    }
   ],
   "source": [
    "pandas_start = time.time()\n",
    "\n",
    "df_pandas_title_basics = df_pandas_title_basics.replace(r'\\N', None)\n",
    "\n",
    "pandas_end = time.time()\n",
    "print(f'Tempo de execução com Pandas: {pandas_end - pandas_start:.2f} segundos')"
   ]
  },
  {
   "cell_type": "markdown",
   "id": "a069311c-0e05-49da-a684-d427c2d3b4b2",
   "metadata": {},
   "source": [
    "#### Pyskpark"
   ]
  },
  {
   "cell_type": "code",
   "execution_count": 27,
   "id": "4439f561-ffd4-4842-b2e3-b9ca323ca864",
   "metadata": {},
   "outputs": [
    {
     "name": "stdout",
     "output_type": "stream",
     "text": [
      "Tempo de execução com Pyspark: 50.34 segundos\n"
     ]
    }
   ],
   "source": [
    "pyspark_start = time.time()\n",
    "\n",
    "df_pyspark_title_basics = df_pyspark_title_basics.na.replace(r'\\N', None)\n",
    "\n",
    "pyspark_end = time.time()\n",
    "print(f'Tempo de execução com Pyspark: {pyspark_end - pyspark_start:.2f} segundos')"
   ]
  },
  {
   "cell_type": "markdown",
   "id": "6952ec9d-8536-4c1a-9b23-322a888fcdb1",
   "metadata": {
    "jp-MarkdownHeadingCollapsed": true
   },
   "source": [
    "#### Ajustes nos tipos de dados\n",
    "- Ano estréia e ano encerramento alterado para formato data\n",
    "- Tempo de duração alterado para float\n",
    "- is Adulto para booleano"
   ]
  },
  {
   "cell_type": "markdown",
   "id": "4139282a-5fec-484a-970d-77cfe6a01090",
   "metadata": {},
   "source": [
    "#### Pandas"
   ]
  },
  {
   "cell_type": "code",
   "execution_count": 28,
   "id": "5d9ae448-7631-4b6f-a035-236911549a04",
   "metadata": {},
   "outputs": [
    {
     "name": "stdout",
     "output_type": "stream",
     "text": [
      "Tempo de execução com Pandas: 19.96 segundos\n"
     ]
    }
   ],
   "source": [
    "pandas_start = time.time()\n",
    "\n",
    "df_pandas_title_basics[['startYear', 'endYear']] = df_pandas_title_basics[['startYear', 'endYear']].apply(pd.to_datetime, format='%Y')\n",
    "df_pandas_title_basics['runtimeMinutes'] = df_pandas_title_basics['runtimeMinutes'].astype(float)\n",
    "df_pandas_title_basics['isAdult'] = df_pandas_title_basics['isAdult'].astype(bool)\n",
    "\n",
    "pandas_end = time.time()\n",
    "print(f'Tempo de execução com Pandas: {pandas_end - pandas_start:.2f} segundos')"
   ]
  },
  {
   "cell_type": "markdown",
   "id": "9f17c8f3-a100-40b8-a1f8-ab746ae6816d",
   "metadata": {},
   "source": [
    "#### Pyspark"
   ]
  },
  {
   "cell_type": "code",
   "execution_count": 30,
   "id": "4f0a78b7-d718-4798-a6ea-fabdceaa0e55",
   "metadata": {},
   "outputs": [
    {
     "name": "stdout",
     "output_type": "stream",
     "text": [
      "Tempo de execução com Pyspark: 0.52 segundos\n"
     ]
    }
   ],
   "source": [
    "pyspark_start = time.time()\n",
    "\n",
    "df_pyspark_title_basics = df_pyspark_title_basics.withColumn(\n",
    "   'startYear',\n",
    "    to_date(col('startYear'), 'yyyy')\n",
    ").withColumn(\n",
    "    'endYear',\n",
    "    to_date(col('endYear'), 'yyyy')\n",
    ").withColumn(\n",
    "   'runtimeMinutes',\n",
    "    col('runtimeMinutes').cast('float')\n",
    ").withColumn(\n",
    "   'isAdult',\n",
    "    col('isAdult').cast('boolean')\n",
    ")\n",
    "\n",
    "\n",
    "pyspark_end = time.time()\n",
    "print(f'Tempo de execução com Pyspark: {pyspark_end - pyspark_start:.2f} segundos')"
   ]
  },
  {
   "cell_type": "markdown",
   "id": "d2e99801-1408-4d50-8c31-cb6ade164188",
   "metadata": {},
   "source": [
    "#### Verificando a contagem de dados para cada coluna, 'endYear' que está com 0, ou seja, todos dados nulos, será excluida da base"
   ]
  },
  {
   "cell_type": "markdown",
   "id": "e4ca3eed-e4d2-44b1-86c4-3c435baee690",
   "metadata": {},
   "source": [
    "#### Pandas"
   ]
  },
  {
   "cell_type": "code",
   "execution_count": 31,
   "id": "b35d0779-10dd-41dc-afbf-99c4e9df07f7",
   "metadata": {},
   "outputs": [
    {
     "data": {
      "text/plain": [
       "tconst            1848568\n",
       "titleType         1848568\n",
       "primaryTitle      1848563\n",
       "originalTitle     1848563\n",
       "isAdult           1848568\n",
       "startYear         1707289\n",
       "endYear                 0\n",
       "runtimeMinutes    1186208\n",
       "genres            1759593\n",
       "dtype: int64"
      ]
     },
     "execution_count": 31,
     "metadata": {},
     "output_type": "execute_result"
    }
   ],
   "source": [
    "df_pandas_title_basics.count()"
   ]
  },
  {
   "cell_type": "code",
   "execution_count": 32,
   "id": "1961d6cc-5a48-49a9-b31f-f0f951f24e56",
   "metadata": {},
   "outputs": [],
   "source": [
    "df_pandas_title_basics.drop(columns=['endYear'], inplace=True)"
   ]
  },
  {
   "cell_type": "markdown",
   "id": "a1c6ff91-1930-4266-af46-b00902e73752",
   "metadata": {},
   "source": [
    "#### Pyspark"
   ]
  },
  {
   "cell_type": "code",
   "execution_count": 33,
   "id": "7796d907-f08d-458e-942e-3b7e02d9dc9f",
   "metadata": {},
   "outputs": [
    {
     "data": {
      "text/plain": [
       "1848568"
      ]
     },
     "execution_count": 33,
     "metadata": {},
     "output_type": "execute_result"
    }
   ],
   "source": [
    "df_pyspark_title_basics.count()"
   ]
  },
  {
   "cell_type": "code",
   "execution_count": 34,
   "id": "19fbfa73-deff-47cb-9a14-05a34ef17dd6",
   "metadata": {},
   "outputs": [],
   "source": [
    "df_pyspark_title_basics = df_pyspark_title_basics.drop('endYear')"
   ]
  },
  {
   "cell_type": "markdown",
   "id": "a1987e23-22f5-4af9-9520-8998eb12472d",
   "metadata": {},
   "source": [
    "### Join/Merge para unir as avaliações e votos no df de filmes"
   ]
  },
  {
   "cell_type": "markdown",
   "id": "7a6ae058-b253-457b-af6c-67da8568e216",
   "metadata": {},
   "source": [
    "#### Pandas"
   ]
  },
  {
   "cell_type": "code",
   "execution_count": 35,
   "id": "f88c17a0-dfdb-4489-ba26-a6cb6af210cb",
   "metadata": {},
   "outputs": [
    {
     "name": "stdout",
     "output_type": "stream",
     "text": [
      "Tempo de execução com Pandas: 98.91 segundos\n"
     ]
    }
   ],
   "source": [
    "pandas_start = time.time()\n",
    "\n",
    "df_pandas_filmes_avaliacoes = pd.merge(\n",
    "    df_pandas_title_basics,\n",
    "    df_pandas_title_ratings,\n",
    "    on=['tconst'],\n",
    "    how='left'\n",
    ")\n",
    "\n",
    "pandas_end = time.time()\n",
    "print(f'Tempo de execução com Pandas: {pandas_end - pandas_start:.2f} segundos')"
   ]
  },
  {
   "cell_type": "markdown",
   "id": "4ce59719-b23f-4424-9ef3-c4b2f089c56a",
   "metadata": {},
   "source": [
    "#### Pyspark"
   ]
  },
  {
   "cell_type": "code",
   "execution_count": 36,
   "id": "e701c13e-ca37-41bd-982c-45072a8f511d",
   "metadata": {},
   "outputs": [
    {
     "name": "stdout",
     "output_type": "stream",
     "text": [
      "Tempo de execução com Pyspark: 7.92 segundos\n"
     ]
    }
   ],
   "source": [
    "pyspark_start = time.time()\n",
    "\n",
    "df_pyspark_filmes_avaliacoes  = df_pyspark_title_basics.join(\n",
    "    df_pyspark_title_ratings,\n",
    "    on='tconst',\n",
    "    how='left'\n",
    ")\n",
    "\n",
    "pyspark_end = time.time()\n",
    "print(f'Tempo de execução com Pyspark: {pyspark_end - pyspark_start:.2f} segundos')"
   ]
  },
  {
   "cell_type": "markdown",
   "id": "8f82bf91-d352-4e95-b3f9-434bb540621c",
   "metadata": {},
   "source": [
    "#### Possível notar que tem 1.319.489 dados nulos nas colunas de média de avaliações (averageRating) e para Numero de votos (numVotes)\n",
    "#### Foi entendido que os filmes que estão sem avaliações ou votos, não receberam nenhuma avaliação ou votos na plataforma"
   ]
  },
  {
   "cell_type": "code",
   "execution_count": 37,
   "id": "57235264-df7e-457f-9497-7b5ed28aa821",
   "metadata": {},
   "outputs": [
    {
     "data": {
      "text/plain": [
       "tconst                  0\n",
       "titleType               0\n",
       "primaryTitle            5\n",
       "originalTitle           5\n",
       "isAdult                 0\n",
       "startYear          141279\n",
       "runtimeMinutes     662360\n",
       "genres              88975\n",
       "averageRating     1319489\n",
       "numVotes          1319489\n",
       "dtype: int64"
      ]
     },
     "execution_count": 37,
     "metadata": {},
     "output_type": "execute_result"
    }
   ],
   "source": [
    "df_pandas_filmes_avaliacoes.isnull().sum()"
   ]
  },
  {
   "cell_type": "markdown",
   "id": "7a05e293-0657-4a4c-930a-08303c39576a",
   "metadata": {},
   "source": [
    "#### Dropar os dados nulos para não afetar a análise"
   ]
  },
  {
   "cell_type": "markdown",
   "id": "bb781c70-e9e3-4727-aaf0-b3ec8b175829",
   "metadata": {},
   "source": [
    "#### Pandas"
   ]
  },
  {
   "cell_type": "code",
   "execution_count": 38,
   "id": "88c9f9f7-f8c1-4bc8-9e0e-4187ed3b7144",
   "metadata": {},
   "outputs": [
    {
     "name": "stdout",
     "output_type": "stream",
     "text": [
      "Tempo de execução com Pandas: 53.13 segundos\n"
     ]
    }
   ],
   "source": [
    "pandas_start = time.time()\n",
    "\n",
    "df_pandas_filmes_avaliacoes = df_pandas_filmes_avaliacoes.dropna(subset=['averageRating','startYear','runtimeMinutes','genres'])\n",
    "\n",
    "pandas_end = time.time()\n",
    "print(f'Tempo de execução com Pandas: {pandas_end - pandas_start:.2f} segundos')"
   ]
  },
  {
   "cell_type": "code",
   "execution_count": 39,
   "id": "7e0f8296-57a0-4833-be23-b77f575402e7",
   "metadata": {},
   "outputs": [
    {
     "data": {
      "text/plain": [
       "tconst            0\n",
       "titleType         0\n",
       "primaryTitle      0\n",
       "originalTitle     0\n",
       "isAdult           0\n",
       "startYear         0\n",
       "runtimeMinutes    0\n",
       "genres            0\n",
       "averageRating     0\n",
       "numVotes          0\n",
       "dtype: int64"
      ]
     },
     "execution_count": 39,
     "metadata": {},
     "output_type": "execute_result"
    }
   ],
   "source": [
    "df_pandas_filmes_avaliacoes.isnull().sum()"
   ]
  },
  {
   "cell_type": "code",
   "execution_count": 40,
   "id": "b708281d-98d4-4147-9dd2-63a5ab153d27",
   "metadata": {},
   "outputs": [
    {
     "data": {
      "text/plain": [
       "(463632, 10)"
      ]
     },
     "execution_count": 40,
     "metadata": {},
     "output_type": "execute_result"
    }
   ],
   "source": [
    "df_pandas_filmes_avaliacoes.shape"
   ]
  },
  {
   "cell_type": "markdown",
   "id": "5e83a321-f337-4764-949e-4b215d63c8fb",
   "metadata": {},
   "source": [
    "#### Pyspark"
   ]
  },
  {
   "cell_type": "code",
   "execution_count": 41,
   "id": "009aa7e6-fe26-47b6-8681-a7da536ab512",
   "metadata": {},
   "outputs": [],
   "source": [
    "df_pyspark_filmes_avaliacoes = df_pyspark_filmes_avaliacoes.dropna()"
   ]
  },
  {
   "cell_type": "code",
   "execution_count": 42,
   "id": "ec2122dd-dc45-43c5-adaa-d11e908226e5",
   "metadata": {},
   "outputs": [
    {
     "data": {
      "text/plain": [
       "463632"
      ]
     },
     "execution_count": 42,
     "metadata": {},
     "output_type": "execute_result"
    }
   ],
   "source": [
    "df_pyspark_filmes_avaliacoes.count()"
   ]
  },
  {
   "cell_type": "markdown",
   "id": "c4749e79-d0f2-457d-a7a3-f5aedd856d93",
   "metadata": {},
   "source": [
    "#### Criado um novo DataFrame pois os generos estão juntos. Fazendo a separação para que as análises por generos seja mais assertiva"
   ]
  },
  {
   "cell_type": "markdown",
   "id": "f1a37b82-dc58-4069-b3c7-24619a6e3696",
   "metadata": {},
   "source": [
    "#### Pandas "
   ]
  },
  {
   "cell_type": "markdown",
   "id": "87ccb266-739d-491e-89a9-f3ede6d33b41",
   "metadata": {},
   "source": [
    "- Fazendo uma cópia do df_pandas_filmes_avaliacoes que possui as informações incluindo as avaliações"
   ]
  },
  {
   "cell_type": "code",
   "execution_count": 43,
   "id": "48a7be32-9c34-450a-bd72-65ecbbf443a6",
   "metadata": {},
   "outputs": [],
   "source": [
    "df_pandas_contagem_genero = df_pandas_filmes_avaliacoes.copy()"
   ]
  },
  {
   "cell_type": "markdown",
   "id": "2b8408cd-415d-4e3b-8f1d-53b52b860d4b",
   "metadata": {},
   "source": [
    "- Duplicando a coluna de generos para uma delas ser subdividida pelos filmes que possui mais de um genero"
   ]
  },
  {
   "cell_type": "code",
   "execution_count": 44,
   "id": "66912b0e-ba9f-4225-8800-7729b228bc27",
   "metadata": {},
   "outputs": [
    {
     "name": "stdout",
     "output_type": "stream",
     "text": [
      "Tempo de execução com Pandas: 71.15 segundos\n"
     ]
    }
   ],
   "source": [
    "pandas_start = time.time()\n",
    "\n",
    "df_pandas_contagem_genero = df_pandas_contagem_genero.assign(genres_sub=df_pandas_contagem_genero['genres'])\n",
    "\n",
    "pandas_end = time.time()\n",
    "print(f'Tempo de execução com Pandas: {pandas_end - pandas_start:.2f} segundos')"
   ]
  },
  {
   "cell_type": "markdown",
   "id": "179e705d-c14e-4400-a7b7-92a7a1b18e42",
   "metadata": {},
   "source": [
    "- Utilizado o método .explode no qual se passsa uma coluna como parametro para expandir  mantendo as demais colunas do df inalteradas\n",
    "- Utilizado para manter a informação dos generos de forma separadas mas permanecer o titulo e demais informações sobre o filme"
   ]
  },
  {
   "cell_type": "code",
   "execution_count": 45,
   "id": "704e250d-5a4b-4bdb-aa0c-f0970587a5f5",
   "metadata": {},
   "outputs": [
    {
     "name": "stdout",
     "output_type": "stream",
     "text": [
      "Tempo de execução com Pandas: 92.96 segundos\n"
     ]
    }
   ],
   "source": [
    "pandas_start = time.time()\n",
    "\n",
    "df_pandas_contagem_genero = df_pandas_contagem_genero.assign(genres=df_pandas_contagem_genero['genres'].str.split(',')).explode('genres').reset_index(drop=True)\n",
    "\n",
    "pandas_end = time.time()\n",
    "print(f'Tempo de execução com Pandas: {pandas_end - pandas_start:.2f} segundos')"
   ]
  },
  {
   "cell_type": "code",
   "execution_count": 46,
   "id": "b30f0e3c-e91c-4d69-86bc-631799aae13f",
   "metadata": {},
   "outputs": [
    {
     "data": {
      "text/html": [
       "<div>\n",
       "<style scoped>\n",
       "    .dataframe tbody tr th:only-of-type {\n",
       "        vertical-align: middle;\n",
       "    }\n",
       "\n",
       "    .dataframe tbody tr th {\n",
       "        vertical-align: top;\n",
       "    }\n",
       "\n",
       "    .dataframe thead th {\n",
       "        text-align: right;\n",
       "    }\n",
       "</style>\n",
       "<table border=\"1\" class=\"dataframe\">\n",
       "  <thead>\n",
       "    <tr style=\"text-align: right;\">\n",
       "      <th></th>\n",
       "      <th>tconst</th>\n",
       "      <th>titleType</th>\n",
       "      <th>primaryTitle</th>\n",
       "      <th>originalTitle</th>\n",
       "      <th>isAdult</th>\n",
       "      <th>startYear</th>\n",
       "      <th>runtimeMinutes</th>\n",
       "      <th>genres</th>\n",
       "      <th>averageRating</th>\n",
       "      <th>numVotes</th>\n",
       "      <th>genres_sub</th>\n",
       "    </tr>\n",
       "  </thead>\n",
       "  <tbody>\n",
       "    <tr>\n",
       "      <th>0</th>\n",
       "      <td>tt0000001</td>\n",
       "      <td>short</td>\n",
       "      <td>Carmencita</td>\n",
       "      <td>Carmencita</td>\n",
       "      <td>False</td>\n",
       "      <td>1894-01-01</td>\n",
       "      <td>1.0</td>\n",
       "      <td>Documentary</td>\n",
       "      <td>5.7</td>\n",
       "      <td>2063.0</td>\n",
       "      <td>Documentary,Short</td>\n",
       "    </tr>\n",
       "    <tr>\n",
       "      <th>1</th>\n",
       "      <td>tt0000001</td>\n",
       "      <td>short</td>\n",
       "      <td>Carmencita</td>\n",
       "      <td>Carmencita</td>\n",
       "      <td>False</td>\n",
       "      <td>1894-01-01</td>\n",
       "      <td>1.0</td>\n",
       "      <td>Short</td>\n",
       "      <td>5.7</td>\n",
       "      <td>2063.0</td>\n",
       "      <td>Documentary,Short</td>\n",
       "    </tr>\n",
       "    <tr>\n",
       "      <th>2</th>\n",
       "      <td>tt0000002</td>\n",
       "      <td>short</td>\n",
       "      <td>Le clown et ses chiens</td>\n",
       "      <td>Le clown et ses chiens</td>\n",
       "      <td>False</td>\n",
       "      <td>1892-01-01</td>\n",
       "      <td>5.0</td>\n",
       "      <td>Animation</td>\n",
       "      <td>5.6</td>\n",
       "      <td>279.0</td>\n",
       "      <td>Animation,Short</td>\n",
       "    </tr>\n",
       "    <tr>\n",
       "      <th>3</th>\n",
       "      <td>tt0000002</td>\n",
       "      <td>short</td>\n",
       "      <td>Le clown et ses chiens</td>\n",
       "      <td>Le clown et ses chiens</td>\n",
       "      <td>False</td>\n",
       "      <td>1892-01-01</td>\n",
       "      <td>5.0</td>\n",
       "      <td>Short</td>\n",
       "      <td>5.6</td>\n",
       "      <td>279.0</td>\n",
       "      <td>Animation,Short</td>\n",
       "    </tr>\n",
       "    <tr>\n",
       "      <th>4</th>\n",
       "      <td>tt0000003</td>\n",
       "      <td>short</td>\n",
       "      <td>Pauvre Pierrot</td>\n",
       "      <td>Pauvre Pierrot</td>\n",
       "      <td>False</td>\n",
       "      <td>1892-01-01</td>\n",
       "      <td>5.0</td>\n",
       "      <td>Animation</td>\n",
       "      <td>6.5</td>\n",
       "      <td>2030.0</td>\n",
       "      <td>Animation,Comedy,Romance</td>\n",
       "    </tr>\n",
       "  </tbody>\n",
       "</table>\n",
       "</div>"
      ],
      "text/plain": [
       "      tconst titleType            primaryTitle           originalTitle  \\\n",
       "0  tt0000001     short              Carmencita              Carmencita   \n",
       "1  tt0000001     short              Carmencita              Carmencita   \n",
       "2  tt0000002     short  Le clown et ses chiens  Le clown et ses chiens   \n",
       "3  tt0000002     short  Le clown et ses chiens  Le clown et ses chiens   \n",
       "4  tt0000003     short          Pauvre Pierrot          Pauvre Pierrot   \n",
       "\n",
       "   isAdult  startYear  runtimeMinutes       genres  averageRating  numVotes  \\\n",
       "0    False 1894-01-01             1.0  Documentary            5.7    2063.0   \n",
       "1    False 1894-01-01             1.0        Short            5.7    2063.0   \n",
       "2    False 1892-01-01             5.0    Animation            5.6     279.0   \n",
       "3    False 1892-01-01             5.0        Short            5.6     279.0   \n",
       "4    False 1892-01-01             5.0    Animation            6.5    2030.0   \n",
       "\n",
       "                 genres_sub  \n",
       "0         Documentary,Short  \n",
       "1         Documentary,Short  \n",
       "2           Animation,Short  \n",
       "3           Animation,Short  \n",
       "4  Animation,Comedy,Romance  "
      ]
     },
     "execution_count": 46,
     "metadata": {},
     "output_type": "execute_result"
    }
   ],
   "source": [
    "df_pandas_contagem_genero.head(5)"
   ]
  },
  {
   "cell_type": "markdown",
   "id": "2a29a365-785d-4785-add2-e1263b408fbd",
   "metadata": {},
   "source": [
    "#### Pyspark"
   ]
  },
  {
   "cell_type": "markdown",
   "id": "44a31e17-6e8f-4e44-ab49-b3d8594d17db",
   "metadata": {},
   "source": [
    "- Fazendo uma cópia do df_pyspark_filmes_avaliacoes que possui as informações incluindo as avaliações"
   ]
  },
  {
   "cell_type": "code",
   "execution_count": 47,
   "id": "36e63591-461d-4cbd-8a87-cef4c915e2c3",
   "metadata": {},
   "outputs": [],
   "source": [
    "df_pyspark_contagem_genero = df_pyspark_filmes_avaliacoes"
   ]
  },
  {
   "cell_type": "markdown",
   "id": "e94c1c0c-affe-4773-95c6-bbf8c100297a",
   "metadata": {},
   "source": [
    "- Duplicando a coluna de generos para uma delas ser subdividida pelos filmes que possui mais de um genero"
   ]
  },
  {
   "cell_type": "code",
   "execution_count": 49,
   "id": "14626994-e8fd-49f1-94b4-6c81b7a2b56e",
   "metadata": {},
   "outputs": [
    {
     "name": "stdout",
     "output_type": "stream",
     "text": [
      "Tempo de execução com Pyspark: 0.09 segundos\n"
     ]
    }
   ],
   "source": [
    "pyspark_start = time.time()\n",
    "\n",
    "df_pyspark_contagem_genero = df_pyspark_contagem_genero.withColumn(\n",
    "    'genres_sub',\n",
    "    col('genres')\n",
    ")\n",
    "\n",
    "pyspark_end = time.time()\n",
    "print(f'Tempo de execução com Pyspark: {pyspark_end - pyspark_start:.2f} segundos')"
   ]
  },
  {
   "cell_type": "markdown",
   "id": "7b30da3a-710a-43ff-b146-ebb54892701b",
   "metadata": {},
   "source": [
    "- Assim como no pandas, utilizado o explode no qual se passsa uma coluna como parametro para expandir  mantendo as demais colunas do df inalteradas\n",
    "- Utilizado para manter a informação dos generos de forma separadas mas permanecer o titulo e demais informações sobre o filme"
   ]
  },
  {
   "cell_type": "code",
   "execution_count": 50,
   "id": "7b4728e0-57d9-4d27-a0e2-268d52426e4c",
   "metadata": {},
   "outputs": [
    {
     "name": "stdout",
     "output_type": "stream",
     "text": [
      "Tempo de execução com Pyspark: 4.46 segundos\n"
     ]
    }
   ],
   "source": [
    "pyspark_start = time.time()\n",
    "\n",
    "df_pyspark_contagem_genero = df_pyspark_contagem_genero.withColumn(\n",
    "    'genres', split(col('genres'), ',')\n",
    ").withColumn('genres', explode(col('genres'))\n",
    ")\n",
    "\n",
    "pyspark_end = time.time()\n",
    "print(f'Tempo de execução com Pyspark: {pyspark_end - pyspark_start:.2f} segundos')"
   ]
  },
  {
   "cell_type": "code",
   "execution_count": 51,
   "id": "19e59b86-48f7-45f9-acef-72e77cb39df6",
   "metadata": {},
   "outputs": [
    {
     "name": "stdout",
     "output_type": "stream",
     "text": [
      "+---------+---------+--------------------+--------------------+-------+----------+--------------+-----------+-------------+--------+-----------------+\n",
      "|   tconst|titleType|        primaryTitle|       originalTitle|isAdult| startYear|runtimeMinutes|     genres|averageRating|numVotes|       genres_sub|\n",
      "+---------+---------+--------------------+--------------------+-------+----------+--------------+-----------+-------------+--------+-----------------+\n",
      "|tt0000002|    short|Le clown et ses c...|Le clown et ses c...|  false|1892-01-01|           5.0|  Animation|          5.6|     279|  Animation,Short|\n",
      "|tt0000002|    short|Le clown et ses c...|Le clown et ses c...|  false|1892-01-01|           5.0|      Short|          5.6|     279|  Animation,Short|\n",
      "|tt0000004|    short|         Un bon bock|         Un bon bock|  false|1892-01-01|          12.0|  Animation|          5.4|     180|  Animation,Short|\n",
      "|tt0000004|    short|         Un bon bock|         Un bon bock|  false|1892-01-01|          12.0|      Short|          5.4|     180|  Animation,Short|\n",
      "|tt0000008|    short|Edison Kinetoscop...|Edison Kinetoscop...|  false|1894-01-01|           1.0|Documentary|          5.4|    2209|Documentary,Short|\n",
      "+---------+---------+--------------------+--------------------+-------+----------+--------------+-----------+-------------+--------+-----------------+\n",
      "only showing top 5 rows\n",
      "\n"
     ]
    }
   ],
   "source": [
    "df_pyspark_contagem_genero.show(5)"
   ]
  },
  {
   "cell_type": "markdown",
   "id": "eaa17e24-82aa-4417-b4d4-49f0794263f6",
   "metadata": {},
   "source": [
    "### 11. Quais são os gêneros mais populares em cada década?"
   ]
  },
  {
   "cell_type": "markdown",
   "id": "e0c96c97-d09b-4140-b000-616dc7d32c82",
   "metadata": {},
   "source": [
    "#### Pandas"
   ]
  },
  {
   "cell_type": "code",
   "execution_count": 52,
   "id": "a7419ab1-85b5-4452-8c1a-ea32d3c45d8f",
   "metadata": {},
   "outputs": [],
   "source": [
    "df_pandas_populares_decada = df_pandas_contagem_genero.copy()"
   ]
  },
  {
   "cell_type": "markdown",
   "id": "d2b4905c-ec3b-4236-bc19-de9054be90a0",
   "metadata": {},
   "source": [
    "- Criando uma coluna decada e aplicando a função para que converta os anos em decadas"
   ]
  },
  {
   "cell_type": "markdown",
   "id": "121365a5-4984-40be-b9e4-e16f44547551",
   "metadata": {},
   "source": [
    "- Como busca apenas as decadas por exemplo, 1980, 1990, etc.\n",
    "- Aplicado na coluna do ano de estréia, divisão inteira por 10 e multiplicado por 10 - Ex. 1878 / 10 = 187,80 (parte inteira 187 * 10 = 1870)"
   ]
  },
  {
   "cell_type": "code",
   "execution_count": 53,
   "id": "1e6c441e-81dc-4793-a446-601f0586f559",
   "metadata": {},
   "outputs": [
    {
     "name": "stdout",
     "output_type": "stream",
     "text": [
      "Tempo de execução com Pandas: 73.25 segundos\n"
     ]
    }
   ],
   "source": [
    "pandas_start = time.time()\n",
    "\n",
    "df_pandas_populares_decada['Decada'] = df_pandas_populares_decada['startYear'].apply(lambda x: (x.year // 10) * 10)\n",
    "\n",
    "pandas_end = time.time()\n",
    "print(f'Tempo de execução com Pandas: {pandas_end - pandas_start:.2f} segundos')"
   ]
  },
  {
   "cell_type": "markdown",
   "id": "a512517b-2285-48d9-a83e-0b3105a38efd",
   "metadata": {},
   "source": [
    "- Agrupando os generos por cada década, fazendo uma contagem para verificar quais mais apareciam em cada uma das décadas"
   ]
  },
  {
   "cell_type": "code",
   "execution_count": 54,
   "id": "c347838f-7756-43af-b48a-f7ed00630ffe",
   "metadata": {},
   "outputs": [
    {
     "name": "stdout",
     "output_type": "stream",
     "text": [
      "Tempo de execução com Pandas: 1.97 segundos\n"
     ]
    }
   ],
   "source": [
    "pandas_start = time.time()\n",
    "\n",
    "df_pandas_generos_decada = df_pandas_populares_decada.groupby('genres')['Decada'].value_counts().reset_index()\n",
    "df_pandas_generos_decada = df_pandas_generos_decada.rename(columns={'genres':'Genero', 'count': 'Contagem_Filmes'})\n",
    "df_pandas_generos_decada\n",
    "\n",
    "pandas_end = time.time()\n",
    "print(f'Tempo de execução com Pandas: {pandas_end - pandas_start:.2f} segundos')"
   ]
  },
  {
   "cell_type": "code",
   "execution_count": 55,
   "id": "90a55ea3-29c3-4805-9469-5f08ef4ce199",
   "metadata": {},
   "outputs": [
    {
     "data": {
      "text/html": [
       "<div>\n",
       "<style scoped>\n",
       "    .dataframe tbody tr th:only-of-type {\n",
       "        vertical-align: middle;\n",
       "    }\n",
       "\n",
       "    .dataframe tbody tr th {\n",
       "        vertical-align: top;\n",
       "    }\n",
       "\n",
       "    .dataframe thead th {\n",
       "        text-align: right;\n",
       "    }\n",
       "</style>\n",
       "<table border=\"1\" class=\"dataframe\">\n",
       "  <thead>\n",
       "    <tr style=\"text-align: right;\">\n",
       "      <th></th>\n",
       "      <th>Genero</th>\n",
       "      <th>Decada</th>\n",
       "      <th>Contagem_Filmes</th>\n",
       "    </tr>\n",
       "  </thead>\n",
       "  <tbody>\n",
       "    <tr>\n",
       "      <th>0</th>\n",
       "      <td>Action</td>\n",
       "      <td>2010</td>\n",
       "      <td>12192</td>\n",
       "    </tr>\n",
       "    <tr>\n",
       "      <th>1</th>\n",
       "      <td>Action</td>\n",
       "      <td>2000</td>\n",
       "      <td>5683</td>\n",
       "    </tr>\n",
       "    <tr>\n",
       "      <th>2</th>\n",
       "      <td>Action</td>\n",
       "      <td>1990</td>\n",
       "      <td>4050</td>\n",
       "    </tr>\n",
       "    <tr>\n",
       "      <th>3</th>\n",
       "      <td>Action</td>\n",
       "      <td>2020</td>\n",
       "      <td>3966</td>\n",
       "    </tr>\n",
       "    <tr>\n",
       "      <th>4</th>\n",
       "      <td>Action</td>\n",
       "      <td>1980</td>\n",
       "      <td>3510</td>\n",
       "    </tr>\n",
       "    <tr>\n",
       "      <th>...</th>\n",
       "      <td>...</td>\n",
       "      <td>...</td>\n",
       "      <td>...</td>\n",
       "    </tr>\n",
       "    <tr>\n",
       "      <th>355</th>\n",
       "      <td>Western</td>\n",
       "      <td>2020</td>\n",
       "      <td>190</td>\n",
       "    </tr>\n",
       "    <tr>\n",
       "      <th>356</th>\n",
       "      <td>Western</td>\n",
       "      <td>1990</td>\n",
       "      <td>169</td>\n",
       "    </tr>\n",
       "    <tr>\n",
       "      <th>357</th>\n",
       "      <td>Western</td>\n",
       "      <td>1980</td>\n",
       "      <td>143</td>\n",
       "    </tr>\n",
       "    <tr>\n",
       "      <th>358</th>\n",
       "      <td>Western</td>\n",
       "      <td>1900</td>\n",
       "      <td>18</td>\n",
       "    </tr>\n",
       "    <tr>\n",
       "      <th>359</th>\n",
       "      <td>Western</td>\n",
       "      <td>1890</td>\n",
       "      <td>7</td>\n",
       "    </tr>\n",
       "  </tbody>\n",
       "</table>\n",
       "<p>360 rows × 3 columns</p>\n",
       "</div>"
      ],
      "text/plain": [
       "      Genero  Decada  Contagem_Filmes\n",
       "0     Action    2010            12192\n",
       "1     Action    2000             5683\n",
       "2     Action    1990             4050\n",
       "3     Action    2020             3966\n",
       "4     Action    1980             3510\n",
       "..       ...     ...              ...\n",
       "355  Western    2020              190\n",
       "356  Western    1990              169\n",
       "357  Western    1980              143\n",
       "358  Western    1900               18\n",
       "359  Western    1890                7\n",
       "\n",
       "[360 rows x 3 columns]"
      ]
     },
     "execution_count": 55,
     "metadata": {},
     "output_type": "execute_result"
    }
   ],
   "source": [
    "df_pandas_generos_decada"
   ]
  },
  {
   "cell_type": "markdown",
   "id": "4e14e0c0-c62c-436f-95cb-2b67b5329ecf",
   "metadata": {},
   "source": [
    "#### Pyspark"
   ]
  },
  {
   "cell_type": "code",
   "execution_count": 56,
   "id": "992e1c47-4e8c-4328-9dde-79f23d9a3f7c",
   "metadata": {},
   "outputs": [],
   "source": [
    "df_pyspark_populares_decada = df_pyspark_contagem_genero"
   ]
  },
  {
   "cell_type": "markdown",
   "id": "fcd4f848-81d7-4c78-9227-2fd03624fc05",
   "metadata": {},
   "source": [
    "- Criando uma coluna decada e aplicando a função para que converta os anos em decadas"
   ]
  },
  {
   "cell_type": "code",
   "execution_count": 57,
   "id": "22e40a43-c30f-4e4f-9312-a23301a00cb0",
   "metadata": {},
   "outputs": [
    {
     "name": "stdout",
     "output_type": "stream",
     "text": [
      "Tempo de execução com Pyspark: 19.54 segundos\n"
     ]
    }
   ],
   "source": [
    "pyspark_start = time.time()\n",
    "\n",
    "df_pyspark_populares_decada = df_pyspark_populares_decada.withColumn(\n",
    "    'Decada',\n",
    "    floor(year(col('startYear')) / 10) * 10\n",
    ")\n",
    "\n",
    "pyspark_end = time.time()\n",
    "print(f'Tempo de execução com Pyspark: {pyspark_end - pyspark_start:.2f} segundos')"
   ]
  },
  {
   "cell_type": "code",
   "execution_count": 58,
   "id": "ffcbabfd-f506-48d2-9cf3-f53abd023c8b",
   "metadata": {},
   "outputs": [
    {
     "name": "stdout",
     "output_type": "stream",
     "text": [
      "-RECORD 0------------------------------------------------\n",
      " tconst         | tt0000002                              \n",
      " titleType      | short                                  \n",
      " primaryTitle   | Le clown et ses chiens                 \n",
      " originalTitle  | Le clown et ses chiens                 \n",
      " isAdult        | false                                  \n",
      " startYear      | 1892-01-01                             \n",
      " runtimeMinutes | 5.0                                    \n",
      " genres         | Animation                              \n",
      " averageRating  | 5.6                                    \n",
      " numVotes       | 279                                    \n",
      " genres_sub     | Animation,Short                        \n",
      " Decada         | 1890                                   \n",
      "-RECORD 1------------------------------------------------\n",
      " tconst         | tt0000002                              \n",
      " titleType      | short                                  \n",
      " primaryTitle   | Le clown et ses chiens                 \n",
      " originalTitle  | Le clown et ses chiens                 \n",
      " isAdult        | false                                  \n",
      " startYear      | 1892-01-01                             \n",
      " runtimeMinutes | 5.0                                    \n",
      " genres         | Short                                  \n",
      " averageRating  | 5.6                                    \n",
      " numVotes       | 279                                    \n",
      " genres_sub     | Animation,Short                        \n",
      " Decada         | 1890                                   \n",
      "-RECORD 2------------------------------------------------\n",
      " tconst         | tt0000004                              \n",
      " titleType      | short                                  \n",
      " primaryTitle   | Un bon bock                            \n",
      " originalTitle  | Un bon bock                            \n",
      " isAdult        | false                                  \n",
      " startYear      | 1892-01-01                             \n",
      " runtimeMinutes | 12.0                                   \n",
      " genres         | Animation                              \n",
      " averageRating  | 5.4                                    \n",
      " numVotes       | 180                                    \n",
      " genres_sub     | Animation,Short                        \n",
      " Decada         | 1890                                   \n",
      "-RECORD 3------------------------------------------------\n",
      " tconst         | tt0000004                              \n",
      " titleType      | short                                  \n",
      " primaryTitle   | Un bon bock                            \n",
      " originalTitle  | Un bon bock                            \n",
      " isAdult        | false                                  \n",
      " startYear      | 1892-01-01                             \n",
      " runtimeMinutes | 12.0                                   \n",
      " genres         | Short                                  \n",
      " averageRating  | 5.4                                    \n",
      " numVotes       | 180                                    \n",
      " genres_sub     | Animation,Short                        \n",
      " Decada         | 1890                                   \n",
      "-RECORD 4------------------------------------------------\n",
      " tconst         | tt0000008                              \n",
      " titleType      | short                                  \n",
      " primaryTitle   | Edison Kinetoscopic Record of a Sneeze \n",
      " originalTitle  | Edison Kinetoscopic Record of a Sneeze \n",
      " isAdult        | false                                  \n",
      " startYear      | 1894-01-01                             \n",
      " runtimeMinutes | 1.0                                    \n",
      " genres         | Documentary                            \n",
      " averageRating  | 5.4                                    \n",
      " numVotes       | 2209                                   \n",
      " genres_sub     | Documentary,Short                      \n",
      " Decada         | 1890                                   \n",
      "only showing top 5 rows\n",
      "\n"
     ]
    }
   ],
   "source": [
    "df_pyspark_populares_decada.show(5, False, True)"
   ]
  },
  {
   "cell_type": "markdown",
   "id": "6e40a497-7ed4-4c1a-802a-fc87da69f4d5",
   "metadata": {},
   "source": [
    "- Agrupando os generos por cada década, fazendo uma contagem para verificar quais mais apareciam em cada uma das décadas"
   ]
  },
  {
   "cell_type": "code",
   "execution_count": 59,
   "id": "92e9a9ca-aea1-4064-ac43-21c5a4127a8e",
   "metadata": {},
   "outputs": [
    {
     "name": "stdout",
     "output_type": "stream",
     "text": [
      "Tempo de execução com Pyspark: 1.39 segundos\n"
     ]
    }
   ],
   "source": [
    "pyspark_start = time.time()\n",
    "\n",
    "df_pyspark_generos_decada = df_pyspark_populares_decada.groupby('genres','Decada').count()\n",
    "df_pyspark_generos_decada = df_pyspark_generos_decada.withColumnRenamed(\n",
    "    'genres', 'Genero'\n",
    ").withColumnRenamed(\n",
    "    'count', 'Contagem_Filmes'\n",
    ")\n",
    "\n",
    "pyspark_end = time.time()\n",
    "print(f'Tempo de execução com Pyspark: {pyspark_end - pyspark_start:.2f} segundos')"
   ]
  },
  {
   "cell_type": "code",
   "execution_count": 60,
   "id": "1167cf71-3085-4b8d-b178-5abf799fb325",
   "metadata": {},
   "outputs": [
    {
     "name": "stdout",
     "output_type": "stream",
     "text": [
      "+-----------+------+---------------+\n",
      "|     Genero|Decada|Contagem_Filmes|\n",
      "+-----------+------+---------------+\n",
      "|Documentary|  1930|            637|\n",
      "|      Short|  1970|           3986|\n",
      "|        War|  1970|            680|\n",
      "| Reality-TV|  2010|             69|\n",
      "|    Western|  2000|            256|\n",
      "|  Game-Show|  2000|              2|\n",
      "|      Crime|  1940|           1185|\n",
      "|     Comedy|  1970|           6826|\n",
      "|     Comedy|  2010|          35847|\n",
      "|     Horror|  1950|            322|\n",
      "|  Adventure|  2000|           2790|\n",
      "|Documentary|  1960|           1974|\n",
      "|     Sci-Fi|  1990|           1059|\n",
      "|Documentary|  1990|           4333|\n",
      "|Documentary|  1880|             18|\n",
      "|     Family|  1920|            216|\n",
      "|       News|  1930|             16|\n",
      "|  Biography|  1960|            270|\n",
      "|     Sci-Fi|  2000|           2082|\n",
      "|      Sport|  1980|            250|\n",
      "+-----------+------+---------------+\n",
      "only showing top 20 rows\n",
      "\n"
     ]
    }
   ],
   "source": [
    "df_pyspark_generos_decada.show()"
   ]
  },
  {
   "cell_type": "markdown",
   "id": "07114d5a-75e7-41ed-8a0a-2faa3843a7c8",
   "metadata": {},
   "source": [
    "- Criar um ranking dos melhores em cada década"
   ]
  },
  {
   "cell_type": "markdown",
   "id": "dc4e0f6f-e190-495d-89c4-0159ca29bb18",
   "metadata": {},
   "source": [
    "#### Pandas"
   ]
  },
  {
   "cell_type": "code",
   "execution_count": 61,
   "id": "07bec46f-eb1e-4775-9017-2725ed15bea4",
   "metadata": {},
   "outputs": [
    {
     "name": "stdout",
     "output_type": "stream",
     "text": [
      "Tempo de execução com Pandas: 4.27 segundos\n"
     ]
    }
   ],
   "source": [
    "pandas_start = time.time()\n",
    "\n",
    "df_pandas_ranking = df_pandas_generos_decada.sort_values(by=['Decada','Contagem_Filmes'],ascending=False).reset_index(drop=True)\n",
    "\n",
    "pandas_end = time.time()\n",
    "print(f'Tempo de execução com Pandas: {pandas_end - pandas_start:.2f} segundos')"
   ]
  },
  {
   "cell_type": "code",
   "execution_count": 62,
   "id": "83b2130e-4884-4512-a7c0-55eb3ea314e2",
   "metadata": {},
   "outputs": [
    {
     "data": {
      "text/plain": [
       "array([2020, 2010, 2000, 1990, 1980, 1970, 1960, 1950, 1940, 1930, 1920,\n",
       "       1910, 1900, 1890, 1880, 1870], dtype=int64)"
      ]
     },
     "execution_count": 62,
     "metadata": {},
     "output_type": "execute_result"
    }
   ],
   "source": [
    "df_pandas_ranking['Decada'].unique()"
   ]
  },
  {
   "cell_type": "code",
   "execution_count": 63,
   "id": "8e871dff-bc9f-467d-ad8e-12364a82b2cc",
   "metadata": {},
   "outputs": [
    {
     "name": "stdout",
     "output_type": "stream",
     "text": [
      "Tempo de execução com Pandas: 2.12 segundos\n"
     ]
    }
   ],
   "source": [
    "pandas_start = time.time()\n",
    "\n",
    "df_pandas_ranking['Classificacao'] = df_pandas_ranking.groupby('Decada').cumcount() + 1\n",
    "\n",
    "pandas_end = time.time()\n",
    "print(f'Tempo de execução com Pandas: {pandas_end - pandas_start:.2f} segundos')"
   ]
  },
  {
   "cell_type": "code",
   "execution_count": 64,
   "id": "1a9ea611-7b38-4f7f-bbb4-9c5832e0e408",
   "metadata": {},
   "outputs": [
    {
     "data": {
      "text/html": [
       "<div>\n",
       "<style scoped>\n",
       "    .dataframe tbody tr th:only-of-type {\n",
       "        vertical-align: middle;\n",
       "    }\n",
       "\n",
       "    .dataframe tbody tr th {\n",
       "        vertical-align: top;\n",
       "    }\n",
       "\n",
       "    .dataframe thead th {\n",
       "        text-align: right;\n",
       "    }\n",
       "</style>\n",
       "<table border=\"1\" class=\"dataframe\">\n",
       "  <thead>\n",
       "    <tr style=\"text-align: right;\">\n",
       "      <th></th>\n",
       "      <th>Genero</th>\n",
       "      <th>Decada</th>\n",
       "      <th>Contagem_Filmes</th>\n",
       "      <th>Classificacao</th>\n",
       "    </tr>\n",
       "  </thead>\n",
       "  <tbody>\n",
       "    <tr>\n",
       "      <th>0</th>\n",
       "      <td>Drama</td>\n",
       "      <td>2020</td>\n",
       "      <td>20616</td>\n",
       "      <td>1</td>\n",
       "    </tr>\n",
       "    <tr>\n",
       "      <th>1</th>\n",
       "      <td>Short</td>\n",
       "      <td>2020</td>\n",
       "      <td>13725</td>\n",
       "      <td>2</td>\n",
       "    </tr>\n",
       "    <tr>\n",
       "      <th>2</th>\n",
       "      <td>Documentary</td>\n",
       "      <td>2020</td>\n",
       "      <td>11539</td>\n",
       "      <td>3</td>\n",
       "    </tr>\n",
       "    <tr>\n",
       "      <th>3</th>\n",
       "      <td>Comedy</td>\n",
       "      <td>2020</td>\n",
       "      <td>10563</td>\n",
       "      <td>4</td>\n",
       "    </tr>\n",
       "    <tr>\n",
       "      <th>4</th>\n",
       "      <td>Horror</td>\n",
       "      <td>2020</td>\n",
       "      <td>6029</td>\n",
       "      <td>5</td>\n",
       "    </tr>\n",
       "  </tbody>\n",
       "</table>\n",
       "</div>"
      ],
      "text/plain": [
       "        Genero  Decada  Contagem_Filmes  Classificacao\n",
       "0        Drama    2020            20616              1\n",
       "1        Short    2020            13725              2\n",
       "2  Documentary    2020            11539              3\n",
       "3       Comedy    2020            10563              4\n",
       "4       Horror    2020             6029              5"
      ]
     },
     "execution_count": 64,
     "metadata": {},
     "output_type": "execute_result"
    }
   ],
   "source": [
    "df_pandas_ranking.head()"
   ]
  },
  {
   "cell_type": "markdown",
   "id": "de707bf9-170a-4477-b390-c903f62b532d",
   "metadata": {},
   "source": [
    "#### Pyspark"
   ]
  },
  {
   "cell_type": "code",
   "execution_count": 65,
   "id": "4e9af6e9-73bc-42ef-b3a8-0ede26fa7d3a",
   "metadata": {},
   "outputs": [
    {
     "name": "stdout",
     "output_type": "stream",
     "text": [
      "Tempo de execução com Pyspark: 20.42 segundos\n"
     ]
    }
   ],
   "source": [
    "pyspark_start = time.time()\n",
    "\n",
    "df_pyspark_ranking = df_pyspark_generos_decada.orderBy(\n",
    "    ['Decada', 'Contagem_Filmes'],\n",
    "    ascending=[True, False]\n",
    ")\n",
    "\n",
    "pyspark_end = time.time()\n",
    "print(f'Tempo de execução com Pyspark: {pyspark_end - pyspark_start:.2f} segundos')"
   ]
  },
  {
   "cell_type": "code",
   "execution_count": 66,
   "id": "13a3e33b-4c31-4a49-9940-01e8d0784427",
   "metadata": {},
   "outputs": [
    {
     "name": "stdout",
     "output_type": "stream",
     "text": [
      "Tempo de execução com Pyspark: 12.72 segundos\n"
     ]
    }
   ],
   "source": [
    "pyspark_start = time.time()\n",
    "\n",
    "classificacao = Window.partitionBy('Decada').orderBy(col('Contagem_filmes').desc())\n",
    "df_pyspark_ranking = df_pyspark_ranking.withColumn(\n",
    "    'Classificacao', row_number().over(classificacao))\n",
    "\n",
    "pyspark_end = time.time()\n",
    "print(f'Tempo de execução com Pyspark: {pyspark_end - pyspark_start:.2f} segundos')"
   ]
  },
  {
   "cell_type": "code",
   "execution_count": 70,
   "id": "f6300b27-4d80-4320-8f5c-3550e07b7d4a",
   "metadata": {},
   "outputs": [
    {
     "name": "stdout",
     "output_type": "stream",
     "text": [
      "+-----------+------+---------------+-------------+\n",
      "|     Genero|Decada|Contagem_Filmes|Classificacao|\n",
      "+-----------+------+---------------+-------------+\n",
      "|      Short|  1870|             30|            1|\n",
      "|  Animation|  1870|             28|            2|\n",
      "|Documentary|  1870|              2|            3|\n",
      "|      Sport|  1870|              1|            4|\n",
      "|      Short|  1880|             51|            1|\n",
      "+-----------+------+---------------+-------------+\n",
      "only showing top 5 rows\n",
      "\n"
     ]
    }
   ],
   "source": [
    "df_pyspark_ranking.show(5)"
   ]
  },
  {
   "cell_type": "markdown",
   "id": "67a59d39-0260-4e25-baac-35ed2e1cf2f8",
   "metadata": {},
   "source": [
    "### Ordenação O Pandas tem maior performance"
   ]
  },
  {
   "cell_type": "markdown",
   "id": "bcbb1754-3bd2-4f31-bee1-b8d2148393f0",
   "metadata": {},
   "source": [
    "#### Pandas"
   ]
  },
  {
   "cell_type": "markdown",
   "id": "4f15e5d6-42ae-403c-8d3c-1dc62ea8c607",
   "metadata": {},
   "source": [
    "- Top 1 para cada decada"
   ]
  },
  {
   "cell_type": "code",
   "execution_count": 67,
   "id": "393b7bb2-1c78-4993-9d4b-82dca8dc7d62",
   "metadata": {},
   "outputs": [
    {
     "data": {
      "text/html": [
       "<div>\n",
       "<style scoped>\n",
       "    .dataframe tbody tr th:only-of-type {\n",
       "        vertical-align: middle;\n",
       "    }\n",
       "\n",
       "    .dataframe tbody tr th {\n",
       "        vertical-align: top;\n",
       "    }\n",
       "\n",
       "    .dataframe thead th {\n",
       "        text-align: right;\n",
       "    }\n",
       "</style>\n",
       "<table border=\"1\" class=\"dataframe\">\n",
       "  <thead>\n",
       "    <tr style=\"text-align: right;\">\n",
       "      <th></th>\n",
       "      <th>Genero</th>\n",
       "      <th>Decada</th>\n",
       "      <th>Contagem_Filmes</th>\n",
       "      <th>Classificacao</th>\n",
       "    </tr>\n",
       "  </thead>\n",
       "  <tbody>\n",
       "    <tr>\n",
       "      <th>0</th>\n",
       "      <td>Drama</td>\n",
       "      <td>2020</td>\n",
       "      <td>20616</td>\n",
       "      <td>1</td>\n",
       "    </tr>\n",
       "    <tr>\n",
       "      <th>27</th>\n",
       "      <td>Drama</td>\n",
       "      <td>2010</td>\n",
       "      <td>66641</td>\n",
       "      <td>1</td>\n",
       "    </tr>\n",
       "    <tr>\n",
       "      <th>54</th>\n",
       "      <td>Drama</td>\n",
       "      <td>2000</td>\n",
       "      <td>32798</td>\n",
       "      <td>1</td>\n",
       "    </tr>\n",
       "    <tr>\n",
       "      <th>81</th>\n",
       "      <td>Drama</td>\n",
       "      <td>1990</td>\n",
       "      <td>15472</td>\n",
       "      <td>1</td>\n",
       "    </tr>\n",
       "    <tr>\n",
       "      <th>107</th>\n",
       "      <td>Drama</td>\n",
       "      <td>1980</td>\n",
       "      <td>13478</td>\n",
       "      <td>1</td>\n",
       "    </tr>\n",
       "    <tr>\n",
       "      <th>133</th>\n",
       "      <td>Drama</td>\n",
       "      <td>1970</td>\n",
       "      <td>12250</td>\n",
       "      <td>1</td>\n",
       "    </tr>\n",
       "    <tr>\n",
       "      <th>159</th>\n",
       "      <td>Drama</td>\n",
       "      <td>1960</td>\n",
       "      <td>9693</td>\n",
       "      <td>1</td>\n",
       "    </tr>\n",
       "    <tr>\n",
       "      <th>185</th>\n",
       "      <td>Drama</td>\n",
       "      <td>1950</td>\n",
       "      <td>7011</td>\n",
       "      <td>1</td>\n",
       "    </tr>\n",
       "    <tr>\n",
       "      <th>210</th>\n",
       "      <td>Drama</td>\n",
       "      <td>1940</td>\n",
       "      <td>4705</td>\n",
       "      <td>1</td>\n",
       "    </tr>\n",
       "    <tr>\n",
       "      <th>235</th>\n",
       "      <td>Comedy</td>\n",
       "      <td>1930</td>\n",
       "      <td>5166</td>\n",
       "      <td>1</td>\n",
       "    </tr>\n",
       "    <tr>\n",
       "      <th>260</th>\n",
       "      <td>Drama</td>\n",
       "      <td>1920</td>\n",
       "      <td>2207</td>\n",
       "      <td>1</td>\n",
       "    </tr>\n",
       "    <tr>\n",
       "      <th>285</th>\n",
       "      <td>Short</td>\n",
       "      <td>1910</td>\n",
       "      <td>2334</td>\n",
       "      <td>1</td>\n",
       "    </tr>\n",
       "    <tr>\n",
       "      <th>309</th>\n",
       "      <td>Short</td>\n",
       "      <td>1900</td>\n",
       "      <td>1878</td>\n",
       "      <td>1</td>\n",
       "    </tr>\n",
       "    <tr>\n",
       "      <th>332</th>\n",
       "      <td>Short</td>\n",
       "      <td>1890</td>\n",
       "      <td>908</td>\n",
       "      <td>1</td>\n",
       "    </tr>\n",
       "    <tr>\n",
       "      <th>352</th>\n",
       "      <td>Short</td>\n",
       "      <td>1880</td>\n",
       "      <td>51</td>\n",
       "      <td>1</td>\n",
       "    </tr>\n",
       "    <tr>\n",
       "      <th>356</th>\n",
       "      <td>Short</td>\n",
       "      <td>1870</td>\n",
       "      <td>30</td>\n",
       "      <td>1</td>\n",
       "    </tr>\n",
       "  </tbody>\n",
       "</table>\n",
       "</div>"
      ],
      "text/plain": [
       "     Genero  Decada  Contagem_Filmes  Classificacao\n",
       "0     Drama    2020            20616              1\n",
       "27    Drama    2010            66641              1\n",
       "54    Drama    2000            32798              1\n",
       "81    Drama    1990            15472              1\n",
       "107   Drama    1980            13478              1\n",
       "133   Drama    1970            12250              1\n",
       "159   Drama    1960             9693              1\n",
       "185   Drama    1950             7011              1\n",
       "210   Drama    1940             4705              1\n",
       "235  Comedy    1930             5166              1\n",
       "260   Drama    1920             2207              1\n",
       "285   Short    1910             2334              1\n",
       "309   Short    1900             1878              1\n",
       "332   Short    1890              908              1\n",
       "352   Short    1880               51              1\n",
       "356   Short    1870               30              1"
      ]
     },
     "execution_count": 67,
     "metadata": {},
     "output_type": "execute_result"
    }
   ],
   "source": [
    "df_pandas_ranking[df_pandas_ranking['Classificacao'] ==1]"
   ]
  },
  {
   "cell_type": "markdown",
   "id": "0be6d63f-d118-493e-ae07-ee040f279085",
   "metadata": {},
   "source": [
    "#### Pyspark"
   ]
  },
  {
   "cell_type": "markdown",
   "id": "4ec6fbfa-e48a-43af-abb6-d0974fe80ec8",
   "metadata": {},
   "source": [
    "- Top 1 para cada decada"
   ]
  },
  {
   "cell_type": "code",
   "execution_count": 68,
   "id": "4848d4d1-305f-49ba-81f8-6c8109776642",
   "metadata": {},
   "outputs": [
    {
     "name": "stdout",
     "output_type": "stream",
     "text": [
      "+------+------+---------------+-------------+\n",
      "|Genero|Decada|Contagem_Filmes|Classificacao|\n",
      "+------+------+---------------+-------------+\n",
      "| Drama|  2020|          20616|            1|\n",
      "| Drama|  2010|          66641|            1|\n",
      "| Drama|  2000|          32798|            1|\n",
      "| Drama|  1990|          15472|            1|\n",
      "| Drama|  1980|          13478|            1|\n",
      "| Drama|  1970|          12250|            1|\n",
      "| Drama|  1960|           9693|            1|\n",
      "| Drama|  1950|           7011|            1|\n",
      "| Drama|  1940|           4705|            1|\n",
      "|Comedy|  1930|           5166|            1|\n",
      "| Drama|  1920|           2207|            1|\n",
      "| Short|  1910|           2334|            1|\n",
      "| Short|  1900|           1878|            1|\n",
      "| Short|  1890|            908|            1|\n",
      "| Short|  1880|             51|            1|\n",
      "| Short|  1870|             30|            1|\n",
      "+------+------+---------------+-------------+\n",
      "\n"
     ]
    }
   ],
   "source": [
    "df_pyspark_ranking_top1= df_pyspark_ranking.filter(col('Classificacao') == 1).orderBy(col('Decada').desc())\n",
    "df_pyspark_ranking_top1.show()"
   ]
  },
  {
   "cell_type": "markdown",
   "id": "e0ed5e8b-0504-46a1-8bfb-6eff02d5cd7e",
   "metadata": {},
   "source": [
    "### Conclusão:\n",
    "### Pandas ou Pyspark?"
   ]
  },
  {
   "cell_type": "markdown",
   "id": "0b23c225-9258-4e7f-8da4-0931b63e2274",
   "metadata": {},
   "source": [
    "```` word\n",
    "\n",
    "Não existe uma regra exata. \n",
    "\n",
    "Vai depender de cada situação e tamanho das bases de dados.\n",
    "Como pode ser observado nas comparações acima, o Pyspark em grande parte foi mais rápido, exceto se tratando de ordenação dos dados para visualização em que o Pandas se sobressai. \n",
    "\n",
    "De qualquer forma, tem outros fatores que precisam ser levados em consideração dependendo da situação. O Pandas possui uma visualização mais \"amigável\" do que o Pyspark e trabalhando com volumes menores de dados pode não ter impactos relevantes de performance se comparado ao Pyspark.\n",
    "\n",
    "Uma possibilidade é a flexibilidade de poder trabalhar com ambas em uma mesma análise."
   ]
  }
 ],
 "metadata": {
  "kernelspec": {
   "display_name": "Python 3 (ipykernel)",
   "language": "python",
   "name": "python3"
  },
  "language_info": {
   "codemirror_mode": {
    "name": "ipython",
    "version": 3
   },
   "file_extension": ".py",
   "mimetype": "text/x-python",
   "name": "python",
   "nbconvert_exporter": "python",
   "pygments_lexer": "ipython3",
   "version": "3.11.7"
  }
 },
 "nbformat": 4,
 "nbformat_minor": 5
}
